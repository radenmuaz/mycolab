{
  "nbformat": 4,
  "nbformat_minor": 0,
  "metadata": {
    "colab": {
      "name": "self-attention-classifier-MNIST.ipynb",
      "provenance": [],
      "collapsed_sections": []
    },
    "kernelspec": {
      "name": "python3",
      "display_name": "Python 3"
    },
    "accelerator": "GPU"
  },
  "cells": [
    {
      "cell_type": "markdown",
      "metadata": {
        "id": "M4PdIrclrcgQ",
        "colab_type": "text"
      },
      "source": [
        "tl;dr Use only self-attention to classify MNIST.\n",
        "\n",
        "No nn.Linear, no F.relu is allowed\n",
        "\n",
        "96% accuracy in 5 epochs\n",
        "\n",
        "**Scroll to bottom for results.**\n",
        "\n",
        "# 1. Load libraries and dataset"
      ]
    },
    {
      "cell_type": "code",
      "metadata": {
        "id": "uamirXXUqf_A",
        "colab_type": "code",
        "outputId": "c5719d98-52d4-48f1-dc35-734bfd71cbe0",
        "colab": {
          "base_uri": "https://localhost:8080/",
          "height": 272
        }
      },
      "source": [
        "# Training loader and training loop code is\n",
        "# derived from https://github.com/floydhub/quick-start-pytorch/blob/master/mnist.ipynb\n",
        "%pylab inline\n",
        "import numpy as np\n",
        "import torch\n",
        "import torch.nn as nn\n",
        "import torch.nn.functional as F\n",
        "import torch.utils.data.dataloader as dataloader\n",
        "import torch.optim as optim\n",
        "\n",
        "from torch.utils.data import TensorDataset\n",
        "from torch.autograd import Variable\n",
        "from torchvision import transforms\n",
        "from torchvision.datasets import MNIST\n",
        "\n",
        "import random\n",
        "\n",
        "SEED = 1\n",
        "cuda = torch.cuda.is_available()\n",
        "torch.manual_seed(SEED)\n",
        "\n",
        "if cuda:\n",
        "    torch.cuda.manual_seed(SEED)\n",
        "    \n",
        "train = MNIST('./data', train=True, download=True, transform=transforms.Compose([\n",
        "    transforms.ToTensor(), # ToTensor does min-max normalization. \n",
        "]), )\n",
        "\n",
        "test = MNIST('./data', train=False, download=True, transform=transforms.Compose([\n",
        "    transforms.ToTensor(), # ToTensor does min-max normalization. \n",
        "]), )\n",
        "\n",
        "dataloader_args = dict(shuffle=True, batch_size=256,num_workers=4, pin_memory=True)# if cuda else dict(shuffle=True, batch_size=64)\n",
        "train_loader = dataloader.DataLoader(train, **dataloader_args)\n",
        "test_loader = dataloader.DataLoader(test, **dataloader_args)"
      ],
      "execution_count": 1,
      "outputs": [
        {
          "output_type": "stream",
          "text": [
            "Populating the interactive namespace from numpy and matplotlib\n"
          ],
          "name": "stdout"
        },
        {
          "output_type": "stream",
          "text": [
            "\r0it [00:00, ?it/s]"
          ],
          "name": "stderr"
        },
        {
          "output_type": "stream",
          "text": [
            "Downloading http://yann.lecun.com/exdb/mnist/train-images-idx3-ubyte.gz to ./data/MNIST/raw/train-images-idx3-ubyte.gz\n"
          ],
          "name": "stdout"
        },
        {
          "output_type": "stream",
          "text": [
            "9920512it [00:02, 3958610.82it/s]                             \n"
          ],
          "name": "stderr"
        },
        {
          "output_type": "stream",
          "text": [
            "Extracting ./data/MNIST/raw/train-images-idx3-ubyte.gz to ./data/MNIST/raw\n"
          ],
          "name": "stdout"
        },
        {
          "output_type": "stream",
          "text": [
            "\r0it [00:00, ?it/s]"
          ],
          "name": "stderr"
        },
        {
          "output_type": "stream",
          "text": [
            "Downloading http://yann.lecun.com/exdb/mnist/train-labels-idx1-ubyte.gz to ./data/MNIST/raw/train-labels-idx1-ubyte.gz\n"
          ],
          "name": "stdout"
        },
        {
          "output_type": "stream",
          "text": [
            "32768it [00:00, 57992.66it/s]                           \n",
            "0it [00:00, ?it/s]"
          ],
          "name": "stderr"
        },
        {
          "output_type": "stream",
          "text": [
            "Extracting ./data/MNIST/raw/train-labels-idx1-ubyte.gz to ./data/MNIST/raw\n",
            "Downloading http://yann.lecun.com/exdb/mnist/t10k-images-idx3-ubyte.gz to ./data/MNIST/raw/t10k-images-idx3-ubyte.gz\n"
          ],
          "name": "stdout"
        },
        {
          "output_type": "stream",
          "text": [
            "1654784it [00:01, 977767.53it/s]                             \n",
            "0it [00:00, ?it/s]"
          ],
          "name": "stderr"
        },
        {
          "output_type": "stream",
          "text": [
            "Extracting ./data/MNIST/raw/t10k-images-idx3-ubyte.gz to ./data/MNIST/raw\n",
            "Downloading http://yann.lecun.com/exdb/mnist/t10k-labels-idx1-ubyte.gz to ./data/MNIST/raw/t10k-labels-idx1-ubyte.gz\n"
          ],
          "name": "stdout"
        },
        {
          "output_type": "stream",
          "text": [
            "8192it [00:00, 22051.34it/s]            "
          ],
          "name": "stderr"
        },
        {
          "output_type": "stream",
          "text": [
            "Extracting ./data/MNIST/raw/t10k-labels-idx1-ubyte.gz to ./data/MNIST/raw\n",
            "Processing...\n",
            "Done!\n"
          ],
          "name": "stdout"
        },
        {
          "output_type": "stream",
          "text": [
            "\n"
          ],
          "name": "stderr"
        }
      ]
    },
    {
      "cell_type": "markdown",
      "metadata": {
        "id": "Kg58Ogbnrao6",
        "colab_type": "text"
      },
      "source": [
        "# 2. Define model"
      ]
    },
    {
      "cell_type": "code",
      "metadata": {
        "id": "F1hBgLQ2r6VS",
        "colab_type": "code",
        "outputId": "e66b437f-77a1-4f76-c803-1ffebd59e5ee",
        "colab": {
          "base_uri": "https://localhost:8080/",
          "height": 71
        }
      },
      "source": [
        "class Model(nn.Module):\n",
        "    def __init__(self):\n",
        "        super(Model, self).__init__()\n",
        "        self.mha1 = nn.MultiheadAttention(1, 1, dropout=0)\n",
        "        self.mha2 = nn.MultiheadAttention(28, 1, dropout=0) \n",
        "        self.mha3 = nn.MultiheadAttention(784, 1, dropout=0) \n",
        "        self.mha4 = nn.MultiheadAttention(10, 1, dropout=0)\n",
        "    def forward(self, x, ret_attn=False):\n",
        "        # attention input dims length * bsz * embed_dim, lots of transpose\n",
        "        h = x.view(x.size(0), -1,1).transpose(0,1)\n",
        "        h, at1 = self.mha1(h, h, h)\n",
        "        h = h.transpose(0,1).reshape(-1, 784)\n",
        "\n",
        "        h = x.view(x.size(0), -1,28).transpose(0,1)\n",
        "        h, at2 = self.mha2(h, h, h)\n",
        "        h = h.transpose(0,1).reshape(-1, 784)\n",
        "\n",
        "        h = x.view(x.size(0), -1,784).transpose(0,1)\n",
        "        h, at3 = self.mha3(h, h, h)\n",
        "        h = h.transpose(0,1).reshape(-1, 784)\n",
        "\n",
        "        h = h[:,:780] # crop to fit to 10-dim logits\n",
        "        h = h.view(x.size(0), -1, 10).transpose(0,1)\n",
        "        h, at4 = self.mha4(h, h, h)\n",
        "        h = h.transpose(0,1)\n",
        "        h = h[:,0] # use only first idx, no pooling\n",
        "        return (h, at1) if ret_attn else h\n",
        "\n",
        "model = Model()\n",
        "if cuda:\n",
        "    model.cuda()\n",
        "optimizer = optim.SGD(model.parameters(), lr=0.1, momentum=0.9, weight_decay=1e-4)\n",
        "# optimizer = optim.Adam(model.parameters(), lr=1e-3)\n",
        "\n",
        "print(\"Param count\", sum(p.numel() for p in model.parameters() if p.requires_grad))"
      ],
      "execution_count": 2,
      "outputs": [
        {
          "output_type": "stream",
          "text": [
            "Param count 2465456\n"
          ],
          "name": "stdout"
        },
        {
          "output_type": "stream",
          "text": [
            "/usr/local/lib/python3.6/dist-packages/ipykernel_launcher.py:35: DeprecationWarning: Calling np.sum(generator) is deprecated, and in the future will give a different result. Use np.sum(np.fromiter(generator)) or the python sum builtin instead.\n"
          ],
          "name": "stderr"
        }
      ]
    },
    {
      "cell_type": "markdown",
      "metadata": {
        "id": "8rzqyRGrsEo1",
        "colab_type": "text"
      },
      "source": [
        "# 3. Train and Eval"
      ]
    },
    {
      "cell_type": "code",
      "metadata": {
        "id": "cQL02JkisDJq",
        "colab_type": "code",
        "outputId": "154e1c25-a0d3-49a2-f856-7166fd1fb939",
        "colab": {
          "base_uri": "https://localhost:8080/",
          "height": 422
        }
      },
      "source": [
        "EPOCHS = 5\n",
        "losses = []\n",
        "\n",
        "model.train()\n",
        "for epoch in range(EPOCHS):\n",
        "    for batch_idx, (data, target) in enumerate(train_loader):\n",
        "        data, target = Variable(data), Variable(target)\n",
        "        if cuda:\n",
        "            data, target = data.cuda(), target.cuda()\n",
        "        optimizer.zero_grad()\n",
        "        y_pred = model(data) \n",
        "        loss = F.cross_entropy(y_pred, target)\n",
        "        losses.append(loss.cpu().data.item())\n",
        "        loss.backward()\n",
        "        optimizer.step()\n",
        "        \n",
        "        \n",
        "        if batch_idx % 10 == 1:\n",
        "            print('\\r Train Epoch: {}/{} [{}/{} ({:.0f}%)]\\tLoss: {:.6f}'.format(\n",
        "                epoch+1,\n",
        "                EPOCHS,\n",
        "                batch_idx * len(data), \n",
        "                len(train_loader.dataset),\n",
        "                100. * batch_idx / len(train_loader), \n",
        "                loss.cpu().data.item()), \n",
        "                end='')\n",
        "\n",
        "    model.eval()\n",
        "    test_loss = 0\n",
        "    correct = 0\n",
        "    with torch.no_grad():\n",
        "        for data, target in test_loader:\n",
        "            if cuda:\n",
        "                data, target = data.cuda(), target.cuda()\n",
        "            output = model(data)\n",
        "            test_loss += F.cross_entropy(output, target, reduction='sum').item()\n",
        "            pred = output.argmax(dim=1, keepdim=True)\n",
        "            correct += pred.eq(target.view_as(pred)).sum().item()\n",
        "    test_loss /= len(test_loader.dataset)\n",
        "    accuracy = 100. * correct / len(test_loader.dataset)\n",
        "\n",
        "    print('\\r Train Epoch: {}/{} [{}/{} ({:.0f}%)]\\tLoss: {:.6f}\\t Test Accuracy: {:.4f}%'.format(\n",
        "        epoch+1,\n",
        "        EPOCHS,\n",
        "        len(train_loader.dataset), \n",
        "        len(train_loader.dataset),\n",
        "        100. * batch_idx / len(train_loader), \n",
        "        loss.cpu().data.item(),\n",
        "        accuracy,\n",
        "        end=''))\n",
        "pylab.rcParams['figure.figsize'] = (10,5)\n",
        "plot(losses)"
      ],
      "execution_count": 3,
      "outputs": [
        {
          "output_type": "stream",
          "text": [
            " Train Epoch: 1/5 [60000/60000 (100%)]\tLoss: 0.210043\t Test Accuracy: 89.8200%\n",
            " Train Epoch: 2/5 [60000/60000 (100%)]\tLoss: 0.159871\t Test Accuracy: 94.8300%\n",
            " Train Epoch: 3/5 [60000/60000 (100%)]\tLoss: 0.132283\t Test Accuracy: 95.7100%\n",
            " Train Epoch: 4/5 [60000/60000 (100%)]\tLoss: 0.070430\t Test Accuracy: 96.7400%\n",
            " Train Epoch: 5/5 [60000/60000 (100%)]\tLoss: 0.026235\t Test Accuracy: 96.6600%\n"
          ],
          "name": "stdout"
        },
        {
          "output_type": "execute_result",
          "data": {
            "text/plain": [
              "[<matplotlib.lines.Line2D at 0x7faf94f6b9e8>]"
            ]
          },
          "metadata": {
            "tags": []
          },
          "execution_count": 3
        },
        {
          "output_type": "display_data",
          "data": {
            "image/png": "[encoded data removed]",
            "text/plain": [
              "<Figure size 720x360 with 1 Axes>"
            ]
          },
          "metadata": {
            "tags": []
          }
        }
      ]
    },
    {
      "cell_type": "markdown",
      "metadata": {
        "id": "7lR6LDCIukew",
        "colab_type": "text"
      },
      "source": [
        "# 4. Sample inputs and check attention map"
      ]
    },
    {
      "cell_type": "code",
      "metadata": {
        "id": "BYGEosNfEk1t",
        "colab_type": "code",
        "colab": {}
      },
      "source": [
        "# retrieve a minibatch and outputs\n",
        " with torch.no_grad():\n",
        "        for data, target in test_loader:\n",
        "            if cuda:\n",
        "                data, target = data.cuda(), target.cuda()\n",
        "            output, at1 = model(data, ret_attn=True)\n",
        "            pred = output.argmax(dim=1, keepdim=True)  # get the index of the max log-probability\n",
        "            break\n"
      ],
      "execution_count": 0,
      "outputs": []
    },
    {
      "cell_type": "code",
      "metadata": {
        "id": "G2jziZlAW0hT",
        "colab_type": "code",
        "outputId": "affa45c2-b133-4f9c-f967-4df22e874ed5",
        "colab": {
          "base_uri": "https://localhost:8080/",
          "height": 309
        }
      },
      "source": [
        "pylab.rcParams['figure.figsize'] = (20, 20)\n",
        "i = random.randint(0,data.size(0))\n",
        "label = target.cpu()[i]\n",
        "predicted = pred.cpu()[i].item()\n",
        "pixels = data.cpu()[i].numpy().reshape((28, 28))\n",
        "\n",
        "attn_map = at1.cpu()[i].numpy() # 784 x 784, self-attended 784 pixels\n",
        "attn_ax = random.randint(0,784) # sample any single line from attn_map\n",
        "fig, (p1, p2, p3, p4) = plt.subplots(1,4)\n",
        "p1.set_xlabel('label {}, predicted as {} '.format(label, predicted))\n",
        "p1.imshow(-pixels, cmap='gray') # negative for black outline\n",
        "p2.set_xlabel('attn_map, axis {} left'.format(attn_ax))\n",
        "p2.imshow(attn_map[attn_ax, :].reshape((28, 28)), cmap='viridis')\n",
        "p3.set_xlabel('attn_map, axis {} right'.format(attn_ax))\n",
        "p3.imshow(attn_map[:, attn_ax].reshape((28, 28)), cmap='viridis')\n",
        "p4.set_xlabel('attn_map, all axes')\n",
        "p4.imshow(attn_map, cmap='viridis')\n",
        "\n",
        "fig.show()"
      ],
      "execution_count": 9,
      "outputs": [
        {
          "output_type": "display_data",
          "data": {
            "image/png": "[encoded data removed]",
            "text/plain": [
              "<Figure size 1440x1440 with 4 Axes>"
            ]
          },
          "metadata": {
            "tags": []
          }
        }
      ]
    },
    {
      "cell_type": "markdown",
      "metadata": {
        "id": "UCNjEkiSE0kO",
        "colab_type": "text"
      },
      "source": [
        "# 5. Save"
      ]
    },
    {
      "cell_type": "code",
      "metadata": {
        "id": "v9GMrqvjtP8t",
        "colab_type": "code",
        "colab": {}
      },
      "source": [
        "# from google.colab import drive\n",
        "# drive.mount('/content/gdrive')\n",
        "# path = F\"/content/gdrive/My Drive/mnist-attn.pt\" \n",
        "# torch.save(model, path) \n",
        "# model = torch.load(path) # check if it is working\n",
        "# print(model)"
      ],
      "execution_count": 0,
      "outputs": []
    }
  ]
}